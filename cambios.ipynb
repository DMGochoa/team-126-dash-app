{
 "cells": [
  {
   "cell_type": "code",
   "execution_count": 1,
   "metadata": {},
   "outputs": [],
   "source": [
    "import pandas as pd"
   ]
  },
  {
   "cell_type": "code",
   "execution_count": 4,
   "metadata": {},
   "outputs": [],
   "source": [
    "df = pd.read_csv(\"./data-cleaned/scattermap_points.csv\", index_col=0)"
   ]
  },
  {
   "cell_type": "code",
   "execution_count": 5,
   "metadata": {},
   "outputs": [
    {
     "data": {
      "text/html": [
       "<div>\n",
       "<style scoped>\n",
       "    .dataframe tbody tr th:only-of-type {\n",
       "        vertical-align: middle;\n",
       "    }\n",
       "\n",
       "    .dataframe tbody tr th {\n",
       "        vertical-align: top;\n",
       "    }\n",
       "\n",
       "    .dataframe thead th {\n",
       "        text-align: right;\n",
       "    }\n",
       "</style>\n",
       "<table border=\"1\" class=\"dataframe\">\n",
       "  <thead>\n",
       "    <tr style=\"text-align: right;\">\n",
       "      <th></th>\n",
       "      <th>Unnamed: 0</th>\n",
       "      <th>name</th>\n",
       "      <th>localidad</th>\n",
       "      <th>latitude</th>\n",
       "      <th>longitude</th>\n",
       "      <th>type</th>\n",
       "      <th>color</th>\n",
       "    </tr>\n",
       "  </thead>\n",
       "  <tbody>\n",
       "    <tr>\n",
       "      <th>0</th>\n",
       "      <td>0</td>\n",
       "      <td>Andino</td>\n",
       "      <td>CHAPINERO</td>\n",
       "      <td>4.666848</td>\n",
       "      <td>-74.052573</td>\n",
       "      <td>Centro Comercial</td>\n",
       "      <td>#35BEAD</td>\n",
       "    </tr>\n",
       "    <tr>\n",
       "      <th>1</th>\n",
       "      <td>1</td>\n",
       "      <td>Apolo</td>\n",
       "      <td>SANTA FE</td>\n",
       "      <td>4.603366</td>\n",
       "      <td>-74.074394</td>\n",
       "      <td>Centro Comercial</td>\n",
       "      <td>#35BEAD</td>\n",
       "    </tr>\n",
       "    <tr>\n",
       "      <th>2</th>\n",
       "      <td>2</td>\n",
       "      <td>Asturias de Oviedo</td>\n",
       "      <td>MUNICIPIOS ALEDAÑOS</td>\n",
       "      <td>4.820529</td>\n",
       "      <td>-74.074463</td>\n",
       "      <td>Centro Comercial</td>\n",
       "      <td>#35BEAD</td>\n",
       "    </tr>\n",
       "    <tr>\n",
       "      <th>3</th>\n",
       "      <td>3</td>\n",
       "      <td>Avenida 19</td>\n",
       "      <td>SANTA FE</td>\n",
       "      <td>4.606337</td>\n",
       "      <td>-74.073560</td>\n",
       "      <td>Centro Comercial</td>\n",
       "      <td>#35BEAD</td>\n",
       "    </tr>\n",
       "    <tr>\n",
       "      <th>4</th>\n",
       "      <td>4</td>\n",
       "      <td>Bahia</td>\n",
       "      <td>SUBA</td>\n",
       "      <td>4.707418</td>\n",
       "      <td>-74.070902</td>\n",
       "      <td>Centro Comercial</td>\n",
       "      <td>#35BEAD</td>\n",
       "    </tr>\n",
       "  </tbody>\n",
       "</table>\n",
       "</div>"
      ],
      "text/plain": [
       "   Unnamed: 0                name            localidad  latitude  longitude  \\\n",
       "0           0              Andino            CHAPINERO  4.666848 -74.052573   \n",
       "1           1               Apolo             SANTA FE  4.603366 -74.074394   \n",
       "2           2  Asturias de Oviedo  MUNICIPIOS ALEDAÑOS  4.820529 -74.074463   \n",
       "3           3          Avenida 19             SANTA FE  4.606337 -74.073560   \n",
       "4           4               Bahia                 SUBA  4.707418 -74.070902   \n",
       "\n",
       "               type    color  \n",
       "0  Centro Comercial  #35BEAD  \n",
       "1  Centro Comercial  #35BEAD  \n",
       "2  Centro Comercial  #35BEAD  \n",
       "3  Centro Comercial  #35BEAD  \n",
       "4  Centro Comercial  #35BEAD  "
      ]
     },
     "execution_count": 5,
     "metadata": {},
     "output_type": "execute_result"
    }
   ],
   "source": [
    "df.head()"
   ]
  },
  {
   "cell_type": "code",
   "execution_count": 23,
   "metadata": {},
   "outputs": [],
   "source": [
    "df['color'].replace({'#35BEAD':'#5c059e'}, inplace=True)"
   ]
  },
  {
   "cell_type": "code",
   "execution_count": 24,
   "metadata": {},
   "outputs": [
    {
     "data": {
      "text/plain": [
       "array(['#5c059e', '#EB0064', '#00B4EB'], dtype=object)"
      ]
     },
     "execution_count": 24,
     "metadata": {},
     "output_type": "execute_result"
    }
   ],
   "source": [
    "df['color'].unique()"
   ]
  },
  {
   "cell_type": "code",
   "execution_count": 11,
   "metadata": {},
   "outputs": [
    {
     "data": {
      "text/plain": [
       "array(['#35BEAD', '#EB0064', '#00B4EB'], dtype=object)"
      ]
     },
     "execution_count": 11,
     "metadata": {},
     "output_type": "execute_result"
    }
   ],
   "source": [
    "df['color'].unique()"
   ]
  },
  {
   "cell_type": "code",
   "execution_count": 10,
   "metadata": {},
   "outputs": [],
   "source": [
    "df.to_csv(\"./data-cleaned/scattermap_points.csv\", index=False)"
   ]
  }
 ],
 "metadata": {
  "kernelspec": {
   "display_name": "Python 3.9.12 ('DS4A')",
   "language": "python",
   "name": "python3"
  },
  "language_info": {
   "codemirror_mode": {
    "name": "ipython",
    "version": 3
   },
   "file_extension": ".py",
   "mimetype": "text/x-python",
   "name": "python",
   "nbconvert_exporter": "python",
   "pygments_lexer": "ipython3",
   "version": "3.9.7"
  },
  "orig_nbformat": 4,
  "vscode": {
   "interpreter": {
    "hash": "47accf53565935fdfd5deeba83438ec371b1646f22214ede2026ed9da2a4758a"
   }
  }
 },
 "nbformat": 4,
 "nbformat_minor": 2
}
